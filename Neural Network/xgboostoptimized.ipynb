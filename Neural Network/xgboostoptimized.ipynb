{
 "cells": [
  {
   "cell_type": "code",
   "execution_count": 2,
   "metadata": {},
   "outputs": [],
   "source": [
    "import pandas as pd\n",
    "import numpy as np\n",
    "from sklearn.model_selection import train_test_split, RandomizedSearchCV\n",
    "from xgboost import XGBClassifier\n",
    "from sklearn.metrics import f1_score, precision_score\n"
   ]
  },
  {
   "cell_type": "code",
   "execution_count": 2,
   "metadata": {},
   "outputs": [],
   "source": [
    "# Cargar el conjunto de datos\n",
    "df = pd.read_csv(\"datas.csv\")\n",
    "\n",
    "# Separar características (X) y etiquetas (y)\n",
    "X = df.drop(columns=[\"adopted\"])\n",
    "y = df[\"adopted\"]\n",
    "\n",
    "# Dividir los datos en entrenamiento y prueba\n",
    "X_train, X_test, y_train, y_test = train_test_split(X, y, test_size=0.2, random_state=42)\n"
   ]
  },
  {
   "cell_type": "code",
   "execution_count": null,
   "metadata": {},
   "outputs": [],
   "source": [
    "\n",
    "# Definir el espacio de búsqueda de hiperparámetros\n",
    "param_space = {\n",
    "    'learning_rate': np.linspace(0.01, 1.0, 20),\n",
    "    'max_depth': range(3, 16),\n",
    "    'n_estimators': range(50, 1001),\n",
    "    'gamma': np.linspace(0.0, 1.0, 20),\n",
    "    'subsample': np.linspace(0.5, 1.0, 20),\n",
    "    'colsample_bytree': np.linspace(0.5, 1.0, 20)\n",
    "}\n",
    "\n",
    "# Inicializar el clasificador XGBoost\n",
    "xgb_clf = XGBClassifier(objective='binary:logistic', random_state=42)\n",
    "\n",
    "# Inicializar la búsqueda aleatoria con validación cruzada\n",
    "random_search = RandomizedSearchCV(\n",
    "    estimator=xgb_clf,\n",
    "    param_distributions=param_space,\n",
    "    scoring='f1',\n",
    "    cv=5,\n",
    "    n_iter=50,  # número de iteraciones de la búsqueda aleatoria\n",
    "    random_state=42\n",
    ")\n",
    "\n",
    "# Realizar la búsqueda de hiperparámetros\n",
    "best_f1 = 0\n",
    "best_precision = 0\n",
    "print(\"Búsqueda de hiperparámetros en curso:\")\n",
    "for i in range(1, 51):\n",
    "    random_search.fit(X_train, y_train)\n",
    "    \n",
    "    # Obtener el mejor modelo y sus hiperparámetros\n",
    "    best_model = random_search.best_estimator_\n",
    "    best_params = random_search.best_params_\n",
    "\n",
    "    # Evaluar el mejor modelo en el conjunto de prueba\n",
    "    y_pred = best_model.predict(X_test)\n",
    "    f1 = f1_score(y_test, y_pred)\n",
    "    precision = precision_score(y_test, y_pred)\n",
    "    \n",
    "    # Imprimir los resultados\n",
    "    print(f\"Iteración {i}: F1 = {f1}, Precisión = {precision}\")\n",
    "    \n",
    "    # Guardar el mejor modelo\n",
    "    if f1 > best_f1:\n",
    "        best_f1 = f1\n",
    "        best_precision = precision\n",
    "        model_name = f\"best_xgboost_model_f1_{f1:.4f}_precision_{precision:.4f}.model\"\n",
    "        best_model.save_model(model_name)\n",
    "        print(f\"Mejor modelo guardado como {model_name}\")\n",
    "\n",
    "print(\"Búsqueda de hiperparámetros finalizada.\")"
   ]
  }
 ],
 "metadata": {
  "kernelspec": {
   "display_name": "Python 3",
   "language": "python",
   "name": "python3"
  },
  "language_info": {
   "codemirror_mode": {
    "name": "ipython",
    "version": 3
   },
   "file_extension": ".py",
   "mimetype": "text/x-python",
   "name": "python",
   "nbconvert_exporter": "python",
   "pygments_lexer": "ipython3",
   "version": "3.11.8"
  }
 },
 "nbformat": 4,
 "nbformat_minor": 2
}
