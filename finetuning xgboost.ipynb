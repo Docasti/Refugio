{
 "cells": [
  {
   "cell_type": "code",
   "execution_count": 14,
   "metadata": {},
   "outputs": [],
   "source": [
    "import pandas as pd\n",
    "from xgboost import XGBClassifier\n",
    "from sklearn.model_selection import StratifiedKFold, cross_validate, train_test_split, cross_val_predict\n",
    "from sklearn.metrics import make_scorer, accuracy_score, precision_score, f1_score, confusion_matrix\n",
    "from sklearn.model_selection import GridSearchCV\n"
   ]
  },
  {
   "cell_type": "code",
   "execution_count": 15,
   "metadata": {},
   "outputs": [],
   "source": [
    "path = r'C:\\Users\\Facundo\\Desktop\\datas.csv'"
   ]
  },
  {
   "cell_type": "code",
   "execution_count": 16,
   "metadata": {},
   "outputs": [],
   "source": [
    "df = pd.read_csv(path)"
   ]
  },
  {
   "cell_type": "code",
   "execution_count": 17,
   "metadata": {},
   "outputs": [
    {
     "name": "stdout",
     "output_type": "stream",
     "text": [
      "Forma del conjunto de entrenamiento: (163857, 35) (163857,)\n",
      "Forma del conjunto de prueba: (40965, 35) (40965,)\n"
     ]
    }
   ],
   "source": [
    "# Definir X (variables predictoras) y y (variable objetivo)\n",
    "X = df.drop('adopted', axis=1)  # Seleccionar todas las columnas excepto 'adopted' como variables predictoras\n",
    "y = df['adopted']  # Seleccionar la columna 'adopted' como variable objetivo\n",
    "\n",
    "# Dividir los datos en conjunto de entrenamiento y prueba manteniendo la proporción de 'adopted'\n",
    "X_train, X_test, y_train, y_test = train_test_split(X, y, test_size=0.2, stratify=y, random_state=42)\n",
    "\n",
    "print(\"Forma del conjunto de entrenamiento:\", X_train.shape, y_train.shape)\n",
    "print(\"Forma del conjunto de prueba:\", X_test.shape, y_test.shape)"
   ]
  },
  {
   "cell_type": "code",
   "execution_count": 19,
   "metadata": {},
   "outputs": [
    {
     "name": "stdout",
     "output_type": "stream",
     "text": [
      "Accuracy promedio: 0.7501968179571211\n",
      "Precision promedio: 0.7755482790130978\n",
      "F1-score promedio: 0.8326724497387806\n"
     ]
    }
   ],
   "source": [
    "# Definir los hiperparámetros del modelo\n",
    "xgb_params = {'colsample_bytree': 1.0,\n",
    "              'gamma': 0,\n",
    "              'learning_rate': 0.25,\n",
    "              'max_depth': 13,\n",
    "              'n_estimators': 30,\n",
    "              'n_jobs': -1,\n",
    "              'reg_alpha': 0.8,\n",
    "              'reg_lambda': 0,\n",
    "              'scale_pos_weight': 1,\n",
    "              'subsample': 1.0}\n",
    "\n",
    "\n",
    "\n",
    "# Crear el clasificador XGBoost con los hiperparámetros especificados\n",
    "xgb_model = XGBClassifier(**xgb_params)\n",
    "\n",
    "# Entrenar el modelo\n",
    "xgb_model.fit(X_train, y_train)\n",
    "\n",
    "# Realizar la validación cruzada\n",
    "stratified_kfold = StratifiedKFold(n_splits=5, shuffle=True, random_state=42)\n",
    "\n",
    "# Definir los scorers para accuracy, precision y F1-score\n",
    "scoring = {\n",
    "    'accuracy': make_scorer(accuracy_score),\n",
    "    'precision': make_scorer(precision_score),\n",
    "    'f1': make_scorer(f1_score)\n",
    "}\n",
    "\n",
    "# Realizar la validación cruzada predictiva (predicciones en lugar de puntajes)\n",
    "cv_predictions = cross_val_predict(xgb_model, X_train, y_train, cv=stratified_kfold)\n",
    "\n",
    "# Evaluar métricas de rendimiento\n",
    "accuracy = accuracy_score(y_train, cv_predictions)\n",
    "precision = precision_score(y_train, cv_predictions)\n",
    "f1 = f1_score(y_train, cv_predictions)\n",
    "\n",
    "# Imprimir los puntajes de validación cruzada\n",
    "print(\"Accuracy promedio:\", accuracy)\n",
    "print(\"Precision promedio:\", precision)\n",
    "print(\"F1-score promedio:\", f1)\n",
    "\n"
   ]
  },
  {
   "cell_type": "code",
   "execution_count": null,
   "metadata": {},
   "outputs": [
    {
     "name": "stdout",
     "output_type": "stream",
     "text": [
      "Accuracy: 0.7518369339680215\n",
      "Precision: 0.7738899613899614\n",
      "F1-score: 0.8346400338332411\n",
      "Matriz de confusión:\n",
      "[[ 5143  7496]\n",
      " [ 2670 25656]]\n"
     ]
    }
   ],
   "source": [
    "# Hacer predicciones en el conjunto de prueba\n",
    "predictions = xgb_model.predict(X_test)\n",
    "\n",
    "# Calcular las métricas de evaluación\n",
    "accuracy = accuracy_score(y_test, predictions)\n",
    "precision = precision_score(y_test, predictions)\n",
    "f1 = f1_score(y_test, predictions)\n",
    "\n",
    "# Calcular la matriz de confusión\n",
    "conf_matrix = confusion_matrix(y_test, predictions)\n",
    "\n",
    "# Imprimir las métricas de evaluación\n",
    "print(\"Accuracy:\", accuracy)\n",
    "print(\"Precision:\", precision)\n",
    "print(\"F1-score:\", f1)\n",
    "\n",
    "# Imprimir la matriz de confusión\n",
    "print(\"Matriz de confusión:\")\n",
    "print(conf_matrix)\n"
   ]
  },
  {
   "cell_type": "code",
   "execution_count": null,
   "metadata": {},
   "outputs": [
    {
     "name": "stdout",
     "output_type": "stream",
     "text": [
      "Mejores hiperparámetros encontrados:\n",
      "{'colsample_bytree': 1.0, 'gamma': 0, 'learning_rate': 0.2, 'max_depth': 7, 'n_estimators': 100, 'n_jobs': -1, 'reg_alpha': 0.5, 'reg_lambda': 0, 'scale_pos_weight': 2, 'subsample': 1.0}\n"
     ]
    }
   ],
   "source": [
    "from sklearn.model_selection import GridSearchCV\n",
    "\n",
    "# Definir el espacio de búsqueda de hiperparámetros\n",
    "param_grid = {\n",
    "    'max_depth': [5, 7],\n",
    "    'learning_rate': [0.01, 0.2],\n",
    "    'n_estimators': [100, 300],\n",
    "    'gamma': [0, 0.2],\n",
    "    'subsample': [1.0],\n",
    "    'colsample_bytree': [1.0],\n",
    "    'reg_alpha': [0, 0.5],\n",
    "    'reg_lambda': [0,0.5],\n",
    "    'scale_pos_weight': [0, 2],\n",
    "    'n_jobs': [-1]\n",
    "}\n",
    "\n",
    "# Crear un clasificador XGBoost\n",
    "xgb_model = XGBClassifier()\n",
    "\n",
    "# Crear un objeto StratifiedKFold para la validación cruzada estratificada\n",
    "stratified_kfold = StratifiedKFold(n_splits=5, shuffle=True, random_state=42)\n",
    "\n",
    "# Realizar la búsqueda en cuadrícula\n",
    "grid_search = GridSearchCV(xgb_model, param_grid=param_grid, cv=stratified_kfold, scoring='f1')\n",
    "grid_search.fit(X_train, y_train)\n",
    "\n",
    "# Mejor modelo encontrado\n",
    "best_model = grid_search.best_estimator_\n",
    "\n",
    "# Mostrar los mejores hiperparámetros encontrados\n",
    "print(\"Mejores hiperparámetros encontrados:\")\n",
    "print(grid_search.best_params_)"
   ]
  },
  {
   "cell_type": "code",
   "execution_count": null,
   "metadata": {},
   "outputs": [
    {
     "name": "stdout",
     "output_type": "stream",
     "text": [
      "Mejores hiperparámetros encontrados:\n",
      "{'colsample_bytree': 1.0, 'gamma': 0, 'learning_rate': 0.2, 'max_depth': 10, 'n_estimators': 50, 'n_jobs': -1, 'reg_alpha': 0.7, 'reg_lambda': 0.8, 'scale_pos_weight': 2, 'subsample': 1.0}\n"
     ]
    }
   ],
   "source": [
    "from sklearn.model_selection import GridSearchCV\n",
    "\n",
    "# Definir el espacio de búsqueda de hiperparámetros\n",
    "param_grid = {\n",
    "    'max_depth': [7,9,10],\n",
    "    'learning_rate': [0.2, 0.3, 0.5],\n",
    "    'n_estimators': [50, 60, 100],\n",
    "    'gamma': [0],\n",
    "    'subsample': [1.0],\n",
    "    'colsample_bytree': [1.0],\n",
    "    'reg_alpha': [0.5, 0.7, 0.9],\n",
    "    'reg_lambda': [0.5,0.8, 0.6],\n",
    "    'scale_pos_weight': [2, 3, 5],\n",
    "    'n_jobs': [-1],\n",
    "    \n",
    "}\n",
    "\n",
    "# Crear un clasificador XGBoost\n",
    "xgb_model = XGBClassifier()\n",
    "\n",
    "# Crear un objeto StratifiedKFold para la validación cruzada estratificada\n",
    "stratified_kfold = StratifiedKFold(n_splits=5, shuffle=True, random_state=42)\n",
    "\n",
    "# Realizar la búsqueda en cuadrícula\n",
    "grid_search = GridSearchCV(xgb_model, param_grid=param_grid, cv=stratified_kfold, scoring='f1')\n",
    "grid_search.fit(X_train, y_train)\n",
    "\n",
    "# Mejor modelo encontrado\n",
    "best_model = grid_search.best_estimator_\n",
    "\n",
    "# Mostrar los mejores hiperparámetros encontrados\n",
    "print(\"Mejores hiperparámetros encontrados:\")\n",
    "print(grid_search.best_params_)"
   ]
  },
  {
   "cell_type": "code",
   "execution_count": 22,
   "metadata": {},
   "outputs": [
    {
     "name": "stdout",
     "output_type": "stream",
     "text": [
      "Mejores hiperparámetros encontrados:\n",
      "{'colsample_bylevel': 1.0, 'colsample_bytree': 1.0, 'gamma': 0, 'learning_rate': 0.2, 'max_depth': 10, 'min_child_weight': 1, 'n_estimators': 50, 'n_jobs': -1, 'reg_alpha': 0.6, 'reg_lambda': 0.9, 'scale_pos_weight': 2, 'subsample': 1.0}\n"
     ]
    }
   ],
   "source": [
    "from sklearn.model_selection import GridSearchCV\n",
    "\n",
    "# Definir el espacio de búsqueda de hiperparámetros\n",
    "param_grid = {\n",
    "    'max_depth': [10,15],\n",
    "    'learning_rate': [0.2, 0.1],\n",
    "    'n_estimators': [50, 30],\n",
    "    'gamma': [0],\n",
    "    'subsample': [1.0],\n",
    "    'colsample_bytree': [1.0],\n",
    "    'reg_alpha': [0.6, 0.7],\n",
    "    'reg_lambda': [0.8, 0.9],\n",
    "    'scale_pos_weight': [2, 1],\n",
    "    'n_jobs': [-1],\n",
    "    'min_child_weight': [1, 3, 5],\n",
    "    'colsample_bylevel': [0.7, 1.0]\n",
    "    \n",
    "    \n",
    "}\n",
    "\n",
    "# Crear un clasificador XGBoost\n",
    "xgb_model = XGBClassifier()\n",
    "\n",
    "# Crear un objeto StratifiedKFold para la validación cruzada estratificada\n",
    "stratified_kfold = StratifiedKFold(n_splits=5, shuffle=True, random_state=42)\n",
    "\n",
    "# Realizar la búsqueda en cuadrícula\n",
    "grid_search = GridSearchCV(xgb_model, param_grid=param_grid, cv=stratified_kfold, scoring='f1')\n",
    "grid_search.fit(X_train, y_train)\n",
    "\n",
    "# Mejor modelo encontrado\n",
    "best_model = grid_search.best_estimator_\n",
    "\n",
    "# Mostrar los mejores hiperparámetros encontrados\n",
    "print(\"Mejores hiperparámetros encontrados:\")\n",
    "print(grid_search.best_params_)"
   ]
  },
  {
   "cell_type": "code",
   "execution_count": 25,
   "metadata": {},
   "outputs": [
    {
     "name": "stdout",
     "output_type": "stream",
     "text": [
      "Mejores hiperparámetros encontrados:\n",
      "{'colsample_bylevel': 1.0, 'colsample_bytree': 1.0, 'gamma': 0, 'learning_rate': 0.1, 'max_depth': 11, 'min_child_weight': 1, 'n_estimators': 50, 'n_jobs': -1, 'reg_alpha': 0.6, 'reg_lambda': 1, 'scale_pos_weight': 2, 'subsample': 1.0}\n"
     ]
    }
   ],
   "source": [
    "\n",
    "# Definir el espacio de búsqueda de hiperparámetros\n",
    "param_grid = {\n",
    "    'max_depth': [10,11,12],\n",
    "    'learning_rate': [0.1],\n",
    "    'n_estimators': [50, 40],\n",
    "    'gamma': [0],\n",
    "    'subsample': [1.0],\n",
    "    'colsample_bytree': [1.0],\n",
    "    'reg_alpha': [0.6],\n",
    "    'reg_lambda': [0.9, 1],\n",
    "    'scale_pos_weight': [2],\n",
    "    'n_jobs': [-1],\n",
    "    'min_child_weight': [1],\n",
    "    'colsample_bylevel': [1.0]\n",
    "    \n",
    "    \n",
    "}\n",
    "\n",
    "# Crear un clasificador XGBoost\n",
    "xgb_model = XGBClassifier()\n",
    "\n",
    "# Crear un objeto StratifiedKFold para la validación cruzada estratificada\n",
    "stratified_kfold = StratifiedKFold(n_splits=5, shuffle=True, random_state=42)\n",
    "\n",
    "# Realizar la búsqueda en cuadrícula\n",
    "grid_search = GridSearchCV(xgb_model, param_grid=param_grid, cv=stratified_kfold, scoring='f1')\n",
    "grid_search.fit(X_train, y_train)\n",
    "\n",
    "# Mejor modelo encontrado\n",
    "best_model = grid_search.best_estimator_\n",
    "\n",
    "# Mostrar los mejores hiperparámetros encontrados\n",
    "print(\"Mejores hiperparámetros encontrados:\")\n",
    "print(grid_search.best_params_)"
   ]
  },
  {
   "cell_type": "code",
   "execution_count": 26,
   "metadata": {},
   "outputs": [
    {
     "name": "stdout",
     "output_type": "stream",
     "text": [
      "Mejores hiperparámetros encontrados:\n",
      "{'colsample_bylevel': 1.0, 'colsample_bytree': 1.0, 'gamma': 0, 'learning_rate': 0.1, 'max_depth': 11, 'min_child_weight': 1, 'n_estimators': 50, 'n_jobs': -1, 'reg_alpha': 0.6, 'reg_lambda': 1, 'scale_pos_weight': 2, 'subsample': 1.0}\n"
     ]
    }
   ],
   "source": [
    "\n",
    "# Definir el espacio de búsqueda de hiperparámetros\n",
    "param_grid = {\n",
    "    'max_depth': [10,11,12],\n",
    "    'learning_rate': [0.1],\n",
    "    'n_estimators': [50, 40],\n",
    "    'gamma': [0],\n",
    "    'subsample': [1.0],\n",
    "    'colsample_bytree': [1.0],\n",
    "    'reg_alpha': [0.6],\n",
    "    'reg_lambda': [0.1, 0, 1],\n",
    "    'scale_pos_weight': [2],\n",
    "    'n_jobs': [-1],\n",
    "    'min_child_weight': [1],\n",
    "    'colsample_bylevel': [1.0]\n",
    "    \n",
    "    \n",
    "}\n",
    "\n",
    "# Crear un clasificador XGBoost\n",
    "xgb_model = XGBClassifier()\n",
    "\n",
    "# Crear un objeto StratifiedKFold para la validación cruzada estratificada\n",
    "stratified_kfold = StratifiedKFold(n_splits=5, shuffle=True, random_state=42)\n",
    "\n",
    "# Realizar la búsqueda en cuadrícula\n",
    "grid_search = GridSearchCV(xgb_model, param_grid=param_grid, cv=stratified_kfold, scoring='f1')\n",
    "grid_search.fit(X_train, y_train)\n",
    "\n",
    "# Mejor modelo encontrado\n",
    "best_model = grid_search.best_estimator_\n",
    "\n",
    "# Mostrar los mejores hiperparámetros encontrados\n",
    "print(\"Mejores hiperparámetros encontrados:\")\n",
    "print(grid_search.best_params_)"
   ]
  },
  {
   "cell_type": "code",
   "execution_count": 31,
   "metadata": {},
   "outputs": [
    {
     "name": "stdout",
     "output_type": "stream",
     "text": [
      "Accuracy promedio: 0.7523023123821381\n",
      "Precision promedio: 0.7744272936558856\n",
      "F1-score promedio: 0.8348692160285125\n"
     ]
    }
   ],
   "source": [
    "# Definir los hiperparámetros del modelo\n",
    "xgb_params = {'colsample_bytree': 1.0,\n",
    "              'gamma': 0,\n",
    "              'learning_rate': 0.1,\n",
    "              'max_depth': 11,\n",
    "              'n_estimators': 50,\n",
    "              'n_jobs': -1,\n",
    "              'reg_alpha': 0.6,\n",
    "              'reg_lambda': 1,\n",
    "              'scale_pos_weight': 1,\n",
    "              'subsample': 1.0,\n",
    "              'colsample_bylevel': 1.0,\n",
    "              'min_child_weight': 1}\n",
    "\n",
    "\n",
    "\n",
    "# Crear el clasificador XGBoost con los hiperparámetros especificados\n",
    "xgb_model = XGBClassifier(**xgb_params)\n",
    "\n",
    "# Entrenar el modelo\n",
    "xgb_model.fit(X_train, y_train)\n",
    "\n",
    "# Realizar la validación cruzada\n",
    "stratified_kfold = StratifiedKFold(n_splits=5, shuffle=True, random_state=42)\n",
    "\n",
    "# Definir los scorers para accuracy, precision y F1-score\n",
    "scoring = {\n",
    "    'accuracy': make_scorer(accuracy_score),\n",
    "    'precision': make_scorer(precision_score),\n",
    "    'f1': make_scorer(f1_score)\n",
    "}\n",
    "\n",
    "# Realizar la validación cruzada predictiva (predicciones en lugar de puntajes)\n",
    "cv_predictions = cross_val_predict(xgb_model, X_train, y_train, cv=stratified_kfold)\n",
    "\n",
    "# Evaluar métricas de rendimiento\n",
    "accuracy = accuracy_score(y_train, cv_predictions)\n",
    "precision = precision_score(y_train, cv_predictions)\n",
    "f1 = f1_score(y_train, cv_predictions)\n",
    "\n",
    "# Imprimir los puntajes de validación cruzada\n",
    "print(\"Accuracy promedio:\", accuracy)\n",
    "print(\"Precision promedio:\", precision)\n",
    "print(\"F1-score promedio:\", f1)\n",
    "\n"
   ]
  },
  {
   "cell_type": "code",
   "execution_count": 29,
   "metadata": {},
   "outputs": [
    {
     "name": "stdout",
     "output_type": "stream",
     "text": [
      "Accuracy: 0.7519101672159161\n",
      "Precision: 0.7735309177434415\n",
      "F1-score: 0.83482048531539\n",
      "Matriz de confusión:\n",
      "[[ 5120  7519]\n",
      " [ 2644 25682]]\n"
     ]
    }
   ],
   "source": [
    "# Hacer predicciones en el conjunto de prueba\n",
    "predictions = xgb_model.predict(X_test)\n",
    "\n",
    "# Calcular las métricas de evaluación\n",
    "accuracy = accuracy_score(y_test, predictions)\n",
    "precision = precision_score(y_test, predictions)\n",
    "f1 = f1_score(y_test, predictions)\n",
    "\n",
    "# Calcular la matriz de confusión\n",
    "conf_matrix = confusion_matrix(y_test, predictions)\n",
    "\n",
    "# Imprimir las métricas de evaluación\n",
    "print(\"Accuracy:\", accuracy)\n",
    "print(\"Precision:\", precision)\n",
    "print(\"F1-score:\", f1)\n",
    "\n",
    "# Imprimir la matriz de confusión\n",
    "print(\"Matriz de confusión:\")\n",
    "print(conf_matrix)"
   ]
  },
  {
   "cell_type": "code",
   "execution_count": 48,
   "metadata": {},
   "outputs": [
    {
     "data": {
      "image/png": "[encoded data removed]",
      "text/plain": [
       "<Figure size 800x600 with 1 Axes>"
      ]
     },
     "metadata": {},
     "output_type": "display_data"
    },
    {
     "data": {
      "image/png": "[encoded data removed]",
      "text/plain": [
       "<Figure size 800x600 with 1 Axes>"
      ]
     },
     "metadata": {},
     "output_type": "display_data"
    }
   ],
   "source": [
    "import matplotlib.pyplot as plt\n",
    "import seaborn as sns\n",
    "from sklearn.metrics import roc_curve, roc_auc_score\n",
    "\n",
    "# Calcular las probabilidades predichas\n",
    "probabilities = xgb_model.predict_proba(X_test)[:, 1]\n",
    "\n",
    "# Calcular la curva ROC y el AUC-ROC\n",
    "fpr, tpr, thresholds = roc_curve(y_test, probabilities)\n",
    "roc_auc = roc_auc_score(y_test, probabilities)\n",
    "\n",
    "# Plotear la curva ROC\n",
    "plt.figure(figsize=(8, 6))\n",
    "plt.plot(fpr, tpr, label=f'AUC = {roc_auc:.2f}')\n",
    "plt.plot([0, 1], [0, 1], linestyle='--', color='gray')\n",
    "plt.xlabel('False Positive Rate')\n",
    "plt.ylabel('True Positive Rate')\n",
    "plt.title('Curva ROC')\n",
    "plt.legend()\n",
    "plt.show()\n",
    "\n",
    "# Crear un heatmap de la matriz de confusión\n",
    "plt.figure(figsize=(8, 6))\n",
    "sns.heatmap(conf_matrix, annot=True, fmt='d', cmap='Blues', cbar=False)\n",
    "plt.xlabel('Predicted Label')\n",
    "plt.ylabel('True Label')\n",
    "plt.title('Matriz de Confusión')\n",
    "plt.show()\n"
   ]
  },
  {
   "cell_type": "code",
   "execution_count": 47,
   "metadata": {},
   "outputs": [
    {
     "data": {
      "text/plain": [
       "1    33201\n",
       "0     7764\n",
       "Name: count, dtype: int64"
      ]
     },
     "execution_count": 47,
     "metadata": {},
     "output_type": "execute_result"
    }
   ],
   "source": [
    "predicciones = pd.Series(predictions)\n",
    "\n",
    "predicciones.value_counts()"
   ]
  },
  {
   "cell_type": "code",
   "execution_count": 49,
   "metadata": {},
   "outputs": [
    {
     "data": {
      "text/plain": [
       "adopted\n",
       "1    141628\n",
       "0     63194\n",
       "Name: count, dtype: int64"
      ]
     },
     "execution_count": 49,
     "metadata": {},
     "output_type": "execute_result"
    }
   ],
   "source": [
    "df['adopted'].value_counts()"
   ]
  },
  {
   "cell_type": "code",
   "execution_count": null,
   "metadata": {},
   "outputs": [],
   "source": []
  }
 ],
 "metadata": {
  "kernelspec": {
   "display_name": "Python 3",
   "language": "python",
   "name": "python3"
  },
  "language_info": {
   "codemirror_mode": {
    "name": "ipython",
    "version": 3
   },
   "file_extension": ".py",
   "mimetype": "text/x-python",
   "name": "python",
   "nbconvert_exporter": "python",
   "pygments_lexer": "ipython3",
   "version": "3.11.8"
  }
 },
 "nbformat": 4,
 "nbformat_minor": 2
}
